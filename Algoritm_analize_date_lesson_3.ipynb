{
 "cells": [
  {
   "cell_type": "code",
   "execution_count": 1,
   "metadata": {},
   "outputs": [],
   "source": [
    "## Задание 1.\n",
    "## *Измените функцию calc_logloss так, чтобы нули по возможности не попадали в np.log (как вариант - np.clip).\n",
    "import numpy as np\n",
    "import matplotlib.pyplot as plt\n",
    "%matplotlib inline"
   ]
  },
  {
   "cell_type": "code",
   "execution_count": 18,
   "metadata": {},
   "outputs": [],
   "source": [
    "X = np.array([[1, 1, 1, 1, 1, 1, 1, 1, 1, 1],\n",
    " [1, 1, 2, 1, 3, 0, 5, 10, 1, 2], # стаж\n",
    " [500, 700, 750, 600, 1450, 800, 1500, 2000, 450, 1000], # стоимость \n",
    " [1, 1, 2, 1, 2, 1, 3, 3, 1, 2]], dtype = np.float64) # квалификация репет\n",
    "y = np.array([0, 0, 1, 0, 1, 0, 1, 0, 1, 1]) # подходит или нет репетитор\n",
    "def calc_logloss(y, y_pred):\n",
    "    min_y = 0.001\n",
    "    max_y = 1\n",
    "    y_pred = np.clip(y_pred, min_y, max_y)\n",
    "    err = np.mean(- y * np.log(y_pred) - (1.0 - y) * np.log(1.0 - y_pred))\n",
    "    return err"
   ]
  },
  {
   "cell_type": "code",
   "execution_count": 19,
   "metadata": {},
   "outputs": [],
   "source": [
    "## Задание 2.\n",
    "## Подберите аргументы функции eval_LR_model для логистической регрессии таким образом, чтобы log loss был минимальным.\n",
    "\n",
    "def sigmoid(z):\n",
    "    res = 1 / (1 + np.exp(-z))\n",
    "    return res  \n",
    "\n",
    "def eval_LR_model(X, y, iterations, alpha=1e-4):\n",
    "    np.random.seed(42)\n",
    "    w = np.random.randn(X.shape[0])\n",
    "    n = X.shape[1]\n",
    "    for i in range(1, iterations + 1):\n",
    "        z = np.dot(w, X)\n",
    "        y_pred = sigmoid(z)\n",
    "        # np.clip, заменим нули на 0.00001\n",
    "        y_pred = np.clip(y_pred, 0.00001, 0.99999)\n",
    "        err = calc_logloss(y, y_pred)\n",
    "        w -= alpha * (1/n * np.dot((y_pred - y), X.T))\n",
    "        if i % (iterations / 50) == 0:\n",
    "            print(i, w, err)\n",
    "            return w\n",
    "        \n",
    "def sigmoid(z):\n",
    "    return 1 / (1 + np.exp(-z))\n"
   ]
  },
  {
   "cell_type": "code",
   "execution_count": null,
   "metadata": {},
   "outputs": [],
   "source": [
    "## Решение"
   ]
  },
  {
   "cell_type": "code",
   "execution_count": 21,
   "metadata": {},
   "outputs": [
    {
     "name": "stdout",
     "output_type": "stream",
     "text": [
      "Alpha: 1e-06\n",
      "400 [ 0.49651416 -0.13878429  0.46369244  1.52274986] 5.756467732512389\n",
      "----------------------------------------------------------------------------------------------------\n",
      "Alpha: 8e-06\n",
      "400 [ 0.49586173 -0.13999359 -0.00242501  1.52212494] 0.60472809749708\n",
      "----------------------------------------------------------------------------------------------------\n",
      "Alpha: 9e-06\n",
      "400 [ 0.4958568  -0.140096   -0.00360149  1.5221721 ] 0.7273651977701474\n",
      "----------------------------------------------------------------------------------------------------\n",
      "Alpha: 1e-05\n",
      "400 [ 0.49585372 -0.14018245 -0.00414978  1.52222096] 0.8479099890773417\n",
      "----------------------------------------------------------------------------------------------------\n"
     ]
    }
   ],
   "source": [
    "alphas_list = [1e-6, 8e-6, 9e-6, 1e-5]\n",
    "for alpha in alphas_list:\n",
    "    print(f'Alpha: {alpha}')\n",
    "    eval_LR_model(X, y, 20000, alpha)\n",
    "    print('-' * 100)"
   ]
  },
  {
   "cell_type": "code",
   "execution_count": 25,
   "metadata": {},
   "outputs": [
    {
     "name": "stdout",
     "output_type": "stream",
     "text": [
      "400 [ 0.49586173 -0.13999359 -0.00242501  1.52212494] 0.60472809749708\n"
     ]
    }
   ],
   "source": [
    "weights = eval_LR_model(X, y, 20000, 8e-6)"
   ]
  },
  {
   "cell_type": "code",
   "execution_count": null,
   "metadata": {},
   "outputs": [],
   "source": [
    "## Alpha: 8e-06 показало себя лучше всего"
   ]
  },
  {
   "cell_type": "code",
   "execution_count": 26,
   "metadata": {},
   "outputs": [
    {
     "data": {
      "text/plain": [
       "array([0.66049219, 0.54499953, 0.8086663 , 0.60419789, 0.40224181,\n",
       "       0.5194849 , 0.67365312, 0.23366728, 0.68713067, 0.69743538])"
      ]
     },
     "execution_count": 26,
     "metadata": {},
     "output_type": "execute_result"
    }
   ],
   "source": [
    "## Задание 3.\n",
    "## Создайте функцию calc_pred_proba, возвращающую предсказанную вероятность класса 1 \n",
    "## (на вход подаются веса, которые уже посчитаны функцией eval_LR_model и X, на выходе - массив y_pred_proba).\n",
    "\n",
    "def calc_pred_proba(w, X):\n",
    "    return sigmoid(np.dot(w, X))\n",
    "calc_pred_proba(weights, X)"
   ]
  },
  {
   "cell_type": "code",
   "execution_count": 28,
   "metadata": {},
   "outputs": [
    {
     "data": {
      "text/plain": [
       "array([0.66049219, 0.54499953, 0.8086663 , 0.60419789, 0.40224181,\n",
       "       0.5194849 , 0.67365312, 0.23366728, 0.68713067, 0.69743538])"
      ]
     },
     "execution_count": 28,
     "metadata": {},
     "output_type": "execute_result"
    }
   ],
   "source": [
    "## Задание 4.\n",
    "## Создайте функцию calc_pred, возвращающую предсказанный класс (на вход подаются веса, которые уже посчитаны функцией\n",
    "## eval_LR_model и X, на выходе - массив y_pred).\n",
    "def calc_pred(w, X):\n",
    "    threshold = 0.5\n",
    "    y_pred_proba = sigmoid(np.dot(w, X))\n",
    "    return (y_pred_proba > threshold).astype(np.int)\n",
    "calc_pred_proba(weights, X)\n",
    "\n"
   ]
  },
  {
   "cell_type": "code",
   "execution_count": 29,
   "metadata": {},
   "outputs": [
    {
     "data": {
      "text/plain": [
       "array([1, 1, 1, 1, 0, 1, 1, 0, 1, 1])"
      ]
     },
     "execution_count": 29,
     "metadata": {},
     "output_type": "execute_result"
    }
   ],
   "source": [
    "y_pred = calc_pred(weights, X)\n",
    "y_pred"
   ]
  },
  {
   "cell_type": "code",
   "execution_count": 53,
   "metadata": {},
   "outputs": [],
   "source": [
    "## Задание 5.\n",
    "## Посчитайте accuracy, матрицу ошибок, precision и recall, а также F1-score.\n",
    "def accuracy(y_true, y_pred):\n",
    "    return np.sum(y_true == y_pred) / len(y_true)"
   ]
  },
  {
   "cell_type": "code",
   "execution_count": 72,
   "metadata": {},
   "outputs": [],
   "source": [
    "def confusion_matrix(y_true, y_pred):\n",
    "    if len(y_true) != len(y_pred):\n",
    "        raise ValueError('Размеры массивов неодинаковы.')\n",
    "    conf_matrix = {\n",
    "        'tp': 0,\n",
    "        'tn': 0,\n",
    "        'fp': 0,\n",
    "        'fn': 0,\n",
    "    }\n",
    "    for i, _ in enumerate(y_true):\n",
    "        if y_true[i] == 1:\n",
    "            if y_pred[i] == y_true[i]:\n",
    "                element = 'tp'\n",
    "            else:\n",
    "                element = 'fn'\n",
    "        else:\n",
    "            if y_pred[i] == y_true[i]:\n",
    "                element = 'tn'\n",
    "            else:\n",
    "                element = 'fp'\n",
    "        conf_matrix[element] += 1\n",
    "    return conf_matrix"
   ]
  },
  {
   "cell_type": "code",
   "execution_count": 73,
   "metadata": {},
   "outputs": [],
   "source": [
    "def show_confusion_matrix(y_true, y_pred):\n",
    "    conf_matrix = confusion_matrix(y_true, y_pred)\n",
    "    print('\\ttrue_1\\ttrue_0')\n",
    "    print(f'pred_1\\t{conf_matrix[\"tp\"]}\\t{conf_matrix[\"fp\"]}')\n",
    "    print(f'pred_0\\t{conf_matrix[\"fn\"]}\\t{conf_matrix[\"tn\"]}')"
   ]
  },
  {
   "cell_type": "code",
   "execution_count": 74,
   "metadata": {},
   "outputs": [],
   "source": [
    "def precision(y_true, y_pred):\n",
    "    conf_matrix = confusion_matrix(y_true, y_pred)\n",
    "    return (conf_matrix['tp'] + conf_matrix['fp']) / len(y_true)"
   ]
  },
  {
   "cell_type": "code",
   "execution_count": 75,
   "metadata": {},
   "outputs": [],
   "source": [
    "def recall(y_true, y_pred):\n",
    "    conf_matrix = confusion_matrix(y_true, y_pred)\n",
    "    return (conf_matrix['tp'] + conf_matrix['fn']) / len(y_true)"
   ]
  },
  {
   "cell_type": "code",
   "execution_count": 76,
   "metadata": {},
   "outputs": [],
   "source": [
    "def f1_score(y_true, y_pred):\n",
    "    return 2 / (1 / precision(y_true, y_pred) + 1 / recall(y_true, y_pred))"
   ]
  },
  {
   "cell_type": "code",
   "execution_count": 77,
   "metadata": {},
   "outputs": [
    {
     "data": {
      "text/plain": [
       "0.5"
      ]
     },
     "execution_count": 77,
     "metadata": {},
     "output_type": "execute_result"
    }
   ],
   "source": [
    "accuracy(y, y_pred)"
   ]
  },
  {
   "cell_type": "code",
   "execution_count": 78,
   "metadata": {},
   "outputs": [
    {
     "data": {
      "text/plain": [
       "{'tp': 4, 'tn': 1, 'fp': 4, 'fn': 1}"
      ]
     },
     "execution_count": 78,
     "metadata": {},
     "output_type": "execute_result"
    }
   ],
   "source": [
    "confusion_matrix(y, y_pred)"
   ]
  },
  {
   "cell_type": "code",
   "execution_count": 79,
   "metadata": {},
   "outputs": [
    {
     "name": "stdout",
     "output_type": "stream",
     "text": [
      "\ttrue_1\ttrue_0\n",
      "pred_1\t4\t4\n",
      "pred_0\t1\t1\n"
     ]
    }
   ],
   "source": [
    "show_confusion_matrix(y, y_pred)"
   ]
  },
  {
   "cell_type": "code",
   "execution_count": 80,
   "metadata": {},
   "outputs": [
    {
     "data": {
      "text/plain": [
       "0.8"
      ]
     },
     "execution_count": 80,
     "metadata": {},
     "output_type": "execute_result"
    }
   ],
   "source": [
    "precision(y, y_pred)"
   ]
  },
  {
   "cell_type": "code",
   "execution_count": 82,
   "metadata": {},
   "outputs": [
    {
     "data": {
      "text/plain": [
       "0.5"
      ]
     },
     "execution_count": 82,
     "metadata": {},
     "output_type": "execute_result"
    }
   ],
   "source": [
    "recall(y, y_pred)"
   ]
  },
  {
   "cell_type": "code",
   "execution_count": 103,
   "metadata": {},
   "outputs": [
    {
     "data": {
      "text/plain": [
       "0.6153846153846154"
      ]
     },
     "execution_count": 103,
     "metadata": {},
     "output_type": "execute_result"
    }
   ],
   "source": [
    "f1_score(y, y_pred)"
   ]
  },
  {
   "cell_type": "code",
   "execution_count": 104,
   "metadata": {},
   "outputs": [],
   "source": [
    "## Задание 6.\n",
    "## Могла ли модель переобучиться? Почему?\n",
    "## Ответ: МОГЛА. Модели всегда могут переобучиться, но в данном случае у модели не особо высокая точность,\n",
    "## поэтому однозначно не могу сказать к ому же нет тестового датасета для сравнения."
   ]
  },
  {
   "cell_type": "code",
   "execution_count": 119,
   "metadata": {},
   "outputs": [
    {
     "data": {
      "text/plain": [
       "array([ 0.49670995, -0.1382749 ,  0.64400842,  1.52302406])"
      ]
     },
     "execution_count": 119,
     "metadata": {},
     "output_type": "execute_result"
    }
   ],
   "source": [
    "## Задание 7.\n",
    "## Создайте функции eval_LR_model_l1 и eval_LR_model_l2 с применением L1 и L2 регуляризации соответственно.\n",
    "def eval_LR_model_l1(X, y, iterations, alpha=1e-4, lambda_=1e-4):\n",
    "    np.random.seed(42)\n",
    "    w = np.random.randn(X.shape[0])\n",
    "    m = X.shape[0]\n",
    "    n = X.shape[1]\n",
    "    for i in range(1, iterations + 1):\n",
    "        z = np.dot(w, X)\n",
    "        y_pred = sigmoid(z)\n",
    "        y_pred = np.clip(y_pred, 0.00001, 0.99999)\n",
    "        err = calc_logloss(y, y_pred) + lambda_ / m * np.linalg.norm(w, ord=1)\n",
    "        w -= alpha * (1/n * np.dot((y_pred - y), X.T) + lambda_ / m * np.sum(np.sign(w)))\n",
    "        if i % (iterations / 50) == 0:\n",
    "            print(i, w, err)\n",
    "        return w   \n",
    "eval_LR_model_l1(X, y, iterations=20000, alpha=8e-6, lambda_=5e-2)"
   ]
  },
  {
   "cell_type": "code",
   "execution_count": 120,
   "metadata": {},
   "outputs": [
    {
     "data": {
      "text/plain": [
       "array([ 0.4967099 , -0.13827495,  0.64400836,  1.523024  ])"
      ]
     },
     "execution_count": 120,
     "metadata": {},
     "output_type": "execute_result"
    }
   ],
   "source": [
    "def eval_LR_model_l2(X, y, iterations, alpha=1e-4, lambda_=1e-4):\n",
    "    np.random.seed(42)\n",
    "    w = np.random.randn(X.shape[0])\n",
    "    m = X.shape[0]\n",
    "    n = X.shape[1]\n",
    "    for i in range(1, iterations + 1):\n",
    "        z = np.dot(w, X)\n",
    "        y_pred = sigmoid(z)\n",
    "        y_pred = np.clip(y_pred, 0.00001, 0.99999)\n",
    "        err = calc_logloss(y, y_pred) + lambda_ / (2 * m) * np.linalg.norm(w, ord=2)\n",
    "        w -= alpha * (1/n * np.dot((y_pred - y), X.T) + lambda_ / m * np.sum(w))\n",
    "        if i % (iterations / 50) == 0:\n",
    "            print(i, w, err)\n",
    "        return w\n",
    "eval_LR_model_l2(X, y, iterations=20000, alpha=8e-6, lambda_=5e-2)"
   ]
  }
 ],
 "metadata": {
  "kernelspec": {
   "display_name": "Python 3",
   "language": "python",
   "name": "python3"
  },
  "language_info": {
   "codemirror_mode": {
    "name": "ipython",
    "version": 3
   },
   "file_extension": ".py",
   "mimetype": "text/x-python",
   "name": "python",
   "nbconvert_exporter": "python",
   "pygments_lexer": "ipython3",
   "version": "3.8.5"
  }
 },
 "nbformat": 4,
 "nbformat_minor": 4
}
