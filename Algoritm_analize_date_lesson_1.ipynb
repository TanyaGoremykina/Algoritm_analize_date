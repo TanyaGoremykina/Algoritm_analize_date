{
 "cells": [
  {
   "cell_type": "code",
   "execution_count": null,
   "metadata": {},
   "outputs": [],
   "source": [
    "## Задание 1.\n",
    "## В этом коде мы избавляемся от итераций по весам, но тут есть ошибка, исправьте ее:\n",
    "## w = np.array([1, 0.5])\n",
    "\n",
    "## for i in range(1000):\n",
    "##    y_pred = np.dot(w, X)\n",
    "##    err = calc_mse(y, y_pred)\n",
    "##    w -= (alpha * (1/n * 2 * np.sum(X * (y_pred - y))))\n",
    "##    if i % 100 == 0:\n",
    "##        print(i, w, err)"
   ]
  },
  {
   "cell_type": "code",
   "execution_count": 12,
   "metadata": {},
   "outputs": [
    {
     "name": "stdout",
     "output_type": "stream",
     "text": [
      "0 [1.1102 0.84  ] 3173.15\n",
      "100 [ 7.43515582 10.71754582] 899.5990444359252\n",
      "200 [11.44993589 10.49282195] 735.5540619653672\n",
      "300 [14.98921624  9.8634316 ] 606.0048772266812\n",
      "400 [18.17511588  9.27626113] 500.7989288428638\n",
      "500 [21.04606457  8.74617136] 415.355423398327\n",
      "600 [23.63334499  8.26841272] 345.96206460054725\n",
      "700 [25.96499229  7.83785632] 289.6039104863001\n",
      "800 [28.06626432  7.44984037] 243.83236130353217\n",
      "900 [29.95992301  7.10016181] 206.65877484533297\n"
     ]
    }
   ],
   "source": [
    "## ошибка в формуле w -= (alpha * (1/n * 2 * np.sum(X * (y_pred - y)))) т.к. складываются все элементы массива.\n",
    "## Следовало ввести агумент asix для функции sum.\n",
    "## решение:\n",
    "import numpy as np\n",
    "X = np.array([[1, 1, 1, 1, 1, 1, 1, 1, 1, 1],\n",
    "              [1, 1, 2, 1, 3, 0, 5, 10, 1, 2]]) \n",
    "X.shape\n",
    "y = [45, 55, 50, 59, 65, 35, 75, 80, 50, 60]\n",
    "def calc_mse(y_true, y_pred):\n",
    "    return np.mean((y_true - y_pred)**2)\n",
    "\n",
    "n = X.shape[1]\n",
    "\n",
    "alpha = 1e-3\n",
    "\n",
    "w = np.array([1, 0.5])\n",
    "for i in range(1000):\n",
    "    y_pred = np.dot(w, X)\n",
    "    err = calc_mse(y, y_pred)\n",
    "    w -= (alpha * (1/n * 2 * np.sum(X * (y_pred - y), axis=1)))\n",
    "    if i % 100 == 0:\n",
    "        print(i, w, err)"
   ]
  },
  {
   "cell_type": "code",
   "execution_count": 13,
   "metadata": {},
   "outputs": [
    {
     "name": "stdout",
     "output_type": "stream",
     "text": [
      "0 [1.1102 0.84  ] 3173.15\n",
      "100 [ 7.43515582 10.71754582] 899.5990444359252\n",
      "200 [11.44993589 10.49282195] 735.5540619653672\n",
      "300 [14.98921624  9.8634316 ] 606.0048772266812\n",
      "400 [18.17511588  9.27626113] 500.7989288428639\n",
      "500 [21.04606457  8.74617136] 415.355423398327\n",
      "600 [23.63334499  8.26841272] 345.9620646005472\n",
      "700 [25.96499229  7.83785632] 289.60391048629987\n"
     ]
    }
   ],
   "source": [
    "## Задание 2.\n",
    "## Вместо того, чтобы задавать количество итераций, задайте условие остановки алгоритма - когда ошибка за итерацию\n",
    "## начинает изменяться ниже определенного порога.\n",
    "w = np.array([1, 0.5])\n",
    "min_error_gain = 0.5\n",
    "err = np.inf\n",
    "for i in range(1000):\n",
    "    y_pred = np.dot(w, X)\n",
    "    prev_err = err\n",
    "    err = calc_mse(y, y_pred)\n",
    "    if (prev_err - err) < min_error_gain:\n",
    "        break\n",
    "    w -= (alpha * (1/n * 2 * X @ (y_pred - y)))\n",
    "    if i % 100 == 0:\n",
    "        print(i, w, err)"
   ]
  },
  {
   "cell_type": "code",
   "execution_count": null,
   "metadata": {},
   "outputs": [],
   "source": []
  }
 ],
 "metadata": {
  "kernelspec": {
   "display_name": "Python 3",
   "language": "python",
   "name": "python3"
  },
  "language_info": {
   "codemirror_mode": {
    "name": "ipython",
    "version": 3
   },
   "file_extension": ".py",
   "mimetype": "text/x-python",
   "name": "python",
   "nbconvert_exporter": "python",
   "pygments_lexer": "ipython3",
   "version": "3.8.5"
  }
 },
 "nbformat": 4,
 "nbformat_minor": 4
}
